{
 "cells": [
  {
   "cell_type": "code",
   "execution_count": null,
   "id": "e7df47ab-038c-4362-814a-4903b0be6eec",
   "metadata": {},
   "outputs": [],
   "source": [
    "import pandas as pd\n",
    "import torch \n",
    "from torch.utils.data import DataLoader, TensorDataset, random_split\n",
    "import matplotlib.pyplot as plt\n",
    "from sklearn.preprocessing import StandardScaler\n",
    "from sklearn.model_selection import train_test_split\n",
    "from torch.nn import BCEWithLogitsLoss"
   ]
  },
  {
   "cell_type": "code",
   "execution_count": null,
   "id": "14884026-f814-42b1-9765-ec6ed3b8eece",
   "metadata": {},
   "outputs": [],
   "source": [
    "device = torch.device(\"cpu\")"
   ]
  },
  {
   "cell_type": "code",
   "execution_count": null,
   "id": "39f7311c-383d-40eb-bdb5-317ad09eafb1",
   "metadata": {},
   "outputs": [],
   "source": [
    "device"
   ]
  },
  {
   "cell_type": "code",
   "execution_count": null,
   "id": "d932e9c7-ee60-430f-a181-d5e653977ec4",
   "metadata": {},
   "outputs": [],
   "source": [
    "data = pd.read_csv(\"Data/train.csv\")"
   ]
  },
  {
   "cell_type": "code",
   "execution_count": null,
   "id": "c0ade31d-26e8-4081-b558-c9c087768c21",
   "metadata": {},
   "outputs": [],
   "source": [
    "if \"id\" in data.columns and \"day\" in data.columns:\n",
    "    \n",
    "    data.drop([\"id\", \"day\"], axis = 1, inplace = True)\n"
   ]
  },
  {
   "cell_type": "code",
   "execution_count": null,
   "id": "51b9693d-3cdc-4406-9253-c54006717e64",
   "metadata": {},
   "outputs": [],
   "source": [
    "X = data.drop(\"rainfall\", axis = 1)\n",
    "y = data[\"rainfall\"]"
   ]
  },
  {
   "cell_type": "code",
   "execution_count": null,
   "id": "14f60425-6268-408e-957a-7209fd2526fe",
   "metadata": {},
   "outputs": [],
   "source": [
    "data.shape"
   ]
  },
  {
   "cell_type": "code",
   "execution_count": null,
   "id": "0382b2a4-3e85-4b39-abff-364f69839c15",
   "metadata": {},
   "outputs": [],
   "source": [
    "X_train, X_test, y_train, y_test = train_test_split(X, y, train_size = 0.8, random_state = 42, shuffle = True)"
   ]
  },
  {
   "cell_type": "markdown",
   "id": "35547e4c-8d54-40ff-b552-efc0f81b08c2",
   "metadata": {},
   "source": [
    "# Standardised"
   ]
  },
  {
   "cell_type": "code",
   "execution_count": null,
   "id": "8fb4d02d-7ea6-49df-8b14-505db7da9a15",
   "metadata": {},
   "outputs": [],
   "source": [
    "X_train_np = X_train.to_numpy()\n",
    "X_test_np = X_test.to_numpy()"
   ]
  },
  {
   "cell_type": "code",
   "execution_count": null,
   "id": "fff67546-36bf-49da-81ab-cd38f7ab2d2d",
   "metadata": {},
   "outputs": [],
   "source": [
    "Std = StandardScaler()\n",
    "\n",
    "X_std = Std.fit_transform(X_train)\n",
    "X_t_std = Std.transform(X_test)\n",
    "\n"
   ]
  },
  {
   "cell_type": "code",
   "execution_count": null,
   "id": "6b3ee351-a0e0-4552-afd6-0da7e6133b70",
   "metadata": {},
   "outputs": [],
   "source": [
    "X_train = torch.tensor(X_std, device = device, dtype = torch.float32)\n",
    "X_test = torch.tensor(X_t_std, device = device, dtype = torch.float32)\n"
   ]
  },
  {
   "cell_type": "code",
   "execution_count": null,
   "id": "ee99818d-954f-4635-80d5-3fcdb566eb8a",
   "metadata": {},
   "outputs": [],
   "source": [
    "X_train = X_train.T\n",
    "y_train = y_train.values.reshape(1,-1)\n",
    "\n",
    "X_test = X_test.T\n",
    "y_test = y_test.values.reshape(1, -1)"
   ]
  },
  {
   "cell_type": "code",
   "execution_count": null,
   "id": "a0b0ec60-0f93-4086-9ef8-9d851c8e0d75",
   "metadata": {},
   "outputs": [],
   "source": [
    "print(f\"X_train shape: {X_train.shape}\")\n",
    "print(f\"y_train shape: {y_train.shape}\")\n",
    "\n"
   ]
  },
  {
   "cell_type": "code",
   "execution_count": null,
   "id": "680edd5e-d09c-4d4d-bd07-8c9292947ee1",
   "metadata": {},
   "outputs": [],
   "source": [
    "y_train = torch.tensor(y_train, device = device)"
   ]
  },
  {
   "cell_type": "code",
   "execution_count": null,
   "id": "e1aa57fd-a571-46b1-8771-42240225dfe5",
   "metadata": {},
   "outputs": [],
   "source": []
  },
  {
   "cell_type": "markdown",
   "id": "398876a6-b0ad-4726-8e36-ca2a0930c6d2",
   "metadata": {},
   "source": [
    "# Weights Initialization"
   ]
  },
  {
   "cell_type": "code",
   "execution_count": null,
   "id": "2c424b5d-edbf-47b5-8385-babc4ea8ef75",
   "metadata": {},
   "outputs": [],
   "source": [
    "torch.manual_seed(1)\n",
    "\n",
    "w1 = torch.randn([10, 10], dtype = torch.float32, device = device, requires_grad = True)\n",
    "b1 = torch.full([10,1], 0.01, dtype = torch.float32, device = device, requires_grad = True)\n",
    "\n",
    "\n",
    "w2 = torch.randn([1, 10], dtype = torch.float32, device = device, requires_grad = True)\n",
    "b2 = torch.full([1,1],0.01, dtype = torch.float32, device = device, requires_grad = True)\n",
    "\n",
    "\n",
    "lr = 0.1\n",
    "\n",
    "for i in range(10000):\n",
    "\n",
    "    Z1 = torch.matmul(w1, X_train) + b1\n",
    "    A1 = torch.relu(Z1)\n",
    "                                        \n",
    "    Z2 = torch.matmul(w2, A1) + b2\n",
    "    A2 = torch.sigmoid(Z2)\n",
    "\n",
    "\n",
    "\n",
    "    loss = -torch.mean((y_train*torch.log(A2)) + ((1-y_train)*torch.log(1-A2)))\n",
    "\n",
    "    loss.backward()\n",
    "\n",
    "    with torch.no_grad():\n",
    "\n",
    "        w1 -= lr * w1.grad\n",
    "        b1 -= lr * b1.grad\n",
    "\n",
    "        w2 -= lr * w2.grad\n",
    "        b2 -= lr * b2.grad\n",
    "\n",
    "\n",
    "\n",
    "    w1.grad.zero_()\n",
    "    b1.grad.zero_()\n",
    "    w2.grad.zero_()\n",
    "    b2.grad.zero_()\n",
    "\n",
    "    if i%1000 == 0:\n",
    "        print(f\"At Iteration {i}, Loss = {loss}\")\n",
    "    \n",
    "                       \n",
    "\n",
    "    \n",
    "    \n"
   ]
  },
  {
   "cell_type": "code",
   "execution_count": null,
   "id": "6b1fbfdf-479b-4194-a073-e980d719286a",
   "metadata": {},
   "outputs": [],
   "source": [
    "loss"
   ]
  },
  {
   "cell_type": "markdown",
   "id": "ee145aff-86fc-4709-b309-314b214fbb12",
   "metadata": {},
   "source": [
    "# Predictions"
   ]
  },
  {
   "cell_type": "code",
   "execution_count": null,
   "id": "0d7bfefe-d93c-48dc-8c7e-36895faa11ca",
   "metadata": {},
   "outputs": [],
   "source": [
    "X_test.shape"
   ]
  },
  {
   "cell_type": "code",
   "execution_count": null,
   "id": "143846c3-14ba-48a5-8728-fabebbdabfb8",
   "metadata": {},
   "outputs": [],
   "source": [
    "final_Z1 = torch.matmul(w1, X_test) + b1\n",
    "final_A1 = torch.relu(final_Z1)\n",
    "\n",
    "final_Z2 = torch.matmul(w2, final_A1) + b2\n",
    "final_A2 = torch.sigmoid(final_Z2)\n",
    "\n"
   ]
  },
  {
   "cell_type": "code",
   "execution_count": null,
   "id": "04b9ea36-cea4-4398-9bfc-f91b820a3622",
   "metadata": {},
   "outputs": [],
   "source": [
    "final_A2"
   ]
  },
  {
   "cell_type": "code",
   "execution_count": null,
   "id": "3fa759a7-e94c-48d0-a482-04e2ff9e89ca",
   "metadata": {},
   "outputs": [],
   "source": [
    "y_pred = (final_A2 >= 0.5).int()"
   ]
  },
  {
   "cell_type": "code",
   "execution_count": null,
   "id": "65ee57da-6a97-4e4f-9399-b6cb65b1a5ac",
   "metadata": {},
   "outputs": [],
   "source": [
    "y_test = torch.tensor(y_test, dtype = torch.float32)"
   ]
  },
  {
   "cell_type": "code",
   "execution_count": null,
   "id": "ba848acc-de11-4bcf-ac7e-77c23c9a5b4e",
   "metadata": {},
   "outputs": [],
   "source": [
    "(y_test == y_pred).float().mean().item()"
   ]
  },
  {
   "cell_type": "markdown",
   "id": "efbe4cf8-0e11-4d91-8f07-ed0d3efe582b",
   "metadata": {},
   "source": [
    "# Kaggle Submission"
   ]
  },
  {
   "cell_type": "code",
   "execution_count": null,
   "id": "e63451ba-811d-4e5e-ab78-82a741e59d25",
   "metadata": {},
   "outputs": [],
   "source": [
    "k_test = pd.read_csv(\"data/test.csv\")"
   ]
  },
  {
   "cell_type": "code",
   "execution_count": null,
   "id": "e01d9b55-8877-476a-bb6f-48e496735289",
   "metadata": {},
   "outputs": [],
   "source": [
    "k_test.drop([\"id\", \"day\"], axis = 1, inplace = True)"
   ]
  },
  {
   "cell_type": "code",
   "execution_count": null,
   "id": "af8ac36f-e137-4ea9-b0dc-cd6c4e4e9e00",
   "metadata": {},
   "outputs": [],
   "source": [
    "k_test.isnull().sum()"
   ]
  },
  {
   "cell_type": "code",
   "execution_count": null,
   "id": "a3cab3a1-a6f0-412e-a1f5-f0822aed3f2a",
   "metadata": {},
   "outputs": [],
   "source": [
    "k_test[\"winddirection\"].fillna(k_test[\"winddirection\"].mode()[0], inplace=True)\n"
   ]
  },
  {
   "cell_type": "code",
   "execution_count": null,
   "id": "a889aea2-3cd3-4b7f-9080-dff7296b9448",
   "metadata": {},
   "outputs": [],
   "source": [
    "k_test.isnull().sum()"
   ]
  },
  {
   "cell_type": "code",
   "execution_count": null,
   "id": "5d8cb98a-fbcb-41f6-b51d-eda8509c5720",
   "metadata": {},
   "outputs": [],
   "source": [
    "k_test_std = Std.transform(k_test)"
   ]
  },
  {
   "cell_type": "code",
   "execution_count": null,
   "id": "801d54e8-437c-4f8b-a073-2a9b775546d7",
   "metadata": {},
   "outputs": [],
   "source": [
    "k_test = torch.tensor(k_test_std, device = device, dtype = torch.float32)"
   ]
  },
  {
   "cell_type": "code",
   "execution_count": null,
   "id": "5b57d4bf-b46e-4a31-8ce8-4aa6f4bf5613",
   "metadata": {},
   "outputs": [],
   "source": [
    "k_test = k_test.T"
   ]
  },
  {
   "cell_type": "markdown",
   "id": "3c71a62e-8de1-4ab9-9f63-da234597d12f",
   "metadata": {},
   "source": [
    "## Predictions"
   ]
  },
  {
   "cell_type": "code",
   "execution_count": null,
   "id": "c21f9a54-64d8-47b3-876c-0772dab1d4d5",
   "metadata": {},
   "outputs": [],
   "source": [
    "test_Z1 = torch.matmul(w1, k_test) + b1\n",
    "test_A1 = torch.relu(test_Z1)\n",
    "\n",
    "test_Z2 = torch.matmul(w2, test_A1) + b2\n",
    "test_A2 = torch.sigmoid(test_Z2)\n",
    "\n"
   ]
  },
  {
   "cell_type": "code",
   "execution_count": null,
   "id": "906e099f-1924-4e23-8c13-69431fd7ad0a",
   "metadata": {},
   "outputs": [],
   "source": [
    "y_test_pred = (test_A2 >= 0.5).int()"
   ]
  },
  {
   "cell_type": "code",
   "execution_count": null,
   "id": "49e9f1ee-06e9-4346-bfee-586b20057177",
   "metadata": {},
   "outputs": [],
   "source": [
    "y_test_pred"
   ]
  },
  {
   "cell_type": "code",
   "execution_count": null,
   "id": "35f4ff1f-d82a-4e9d-a7e4-826f66df9a40",
   "metadata": {},
   "outputs": [],
   "source": [
    "y_test_prob = test_A2.squeeze().cpu().detach().numpy()  # Convert to NumPy for CSV\n"
   ]
  },
  {
   "cell_type": "code",
   "execution_count": null,
   "id": "70a3034a-dc31-44b7-8f98-005c25f90cc3",
   "metadata": {},
   "outputs": [],
   "source": [
    "y_test_prob"
   ]
  },
  {
   "cell_type": "code",
   "execution_count": null,
   "id": "7de6d374-6c91-42fa-9702-d742b9d609ab",
   "metadata": {},
   "outputs": [],
   "source": [
    "k_test = pd.read_csv(\"data/test.csv\")\n",
    "\n",
    "# Ensure y_test_prob is a NumPy array and has correct shape\n",
    "y_test_prob = y_test_prob.flatten()  # Flatten to ensure it's 1D\n",
    "\n",
    "# Create submission DataFrame\n",
    "submission = pd.DataFrame({\n",
    "    \"id\": k_test[\"id\"],  # Use the row index as ID\n",
    "    \"rainfall\": y_test_prob  # Use predicted probabilities\n",
    "})\n",
    "\n",
    "# Save the submission file\n",
    "submission.to_csv(\"submission.csv\", index=False)\n",
    "\n",
    "print(\"✅ Submission file saved as 'submission.csv'. Ready for Kaggle upload! 🎯\")"
   ]
  },
  {
   "cell_type": "code",
   "execution_count": null,
   "id": "ed11aeb6-645b-498a-aac3-58c2db534d7d",
   "metadata": {},
   "outputs": [],
   "source": []
  }
 ],
 "metadata": {
  "kernelspec": {
   "display_name": "Python 3 (ipykernel)",
   "language": "python",
   "name": "python3"
  },
  "language_info": {
   "codemirror_mode": {
    "name": "ipython",
    "version": 3
   },
   "file_extension": ".py",
   "mimetype": "text/x-python",
   "name": "python",
   "nbconvert_exporter": "python",
   "pygments_lexer": "ipython3",
   "version": "3.10.16"
  }
 },
 "nbformat": 4,
 "nbformat_minor": 5
}
